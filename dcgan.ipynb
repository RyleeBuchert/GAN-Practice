{
 "cells": [
  {
   "attachments": {},
   "cell_type": "markdown",
   "metadata": {},
   "source": [
    "Import Packages"
   ]
  },
  {
   "cell_type": "code",
   "execution_count": null,
   "metadata": {},
   "outputs": [],
   "source": [
    "import matplotlib.pyplot as plt\n",
    "import tensorflow as tf\n",
    "import numpy as np\n",
    "import keras"
   ]
  },
  {
   "attachments": {},
   "cell_type": "markdown",
   "metadata": {},
   "source": [
    "Check GPU"
   ]
  },
  {
   "cell_type": "code",
   "execution_count": null,
   "metadata": {},
   "outputs": [],
   "source": [
    "# Set debug options\n",
    "tf.debugging.set_log_device_placement(False)\n",
    "\n",
    "# Check if GPU is available\n",
    "print(tf.__version__)\n",
    "print(\"Num GPUs Available: \", len(tf.config.list_physical_devices('GPU')))\n",
    "\n",
    "# Place tensors on the CPU\n",
    "with tf.device('/CPU:0'):\n",
    "  a = tf.constant([[1.0, 2.0, 3.0], [4.0, 5.0, 6.0]])\n",
    "  b = tf.constant([[1.0, 2.0], [3.0, 4.0], [5.0, 6.0]])\n",
    "  c = tf.matmul(a, b)\n",
    "print(c)\n",
    "\n",
    "# Place tensors on the GPU\n",
    "with tf.device('/GPU:0'):\n",
    "  a = tf.constant([[1.0, 2.0, 3.0], [4.0, 5.0, 6.0]])\n",
    "  b = tf.constant([[1.0, 2.0], [3.0, 4.0], [5.0, 6.0]])\n",
    "  c = tf.matmul(a, b)\n",
    "print(c)"
   ]
  },
  {
   "attachments": {},
   "cell_type": "markdown",
   "metadata": {},
   "source": [
    "Set Model Parameters"
   ]
  },
  {
   "cell_type": "code",
   "execution_count": null,
   "metadata": {},
   "outputs": [],
   "source": [
    "# Set random seed for reproducibility\n",
    "np.random.seed(2488)\n",
    "\n",
    "# Set model name\n",
    "model_name = \"dcgan_fashion\"\n",
    "\n",
    "# Set the dimensions of our noise vector\n",
    "noise_dim = 100\n",
    "\n",
    "# Set the training parameters\n",
    "batch_size = 16\n",
    "steps_per_epoch = 1000\n",
    "epochs = 10\n",
    "\n",
    "# Set the dimensions of our image\n",
    "img_rows, img_cols, channels = 28, 28, 1\n",
    "\n",
    "# Set the optimizer\n",
    "optimizer = keras.optimizers.Adam(learning_rate=0.0002, beta_1=0.5)"
   ]
  },
  {
   "attachments": {},
   "cell_type": "markdown",
   "metadata": {},
   "source": [
    "Load Dataset"
   ]
  },
  {
   "cell_type": "code",
   "execution_count": null,
   "metadata": {},
   "outputs": [],
   "source": [
    "(x_train, y_train), (x_test, y_test) = keras.datasets.fashion_mnist.load_data()\n",
    "\n",
    "x_train = (x_train.astype(np.float32) - 127.5) / 127.5\n",
    "x_train = x_train.reshape(-1, img_rows, img_cols, channels)\n",
    "x_train = x_train[np.where(y_train == 0)[0]]"
   ]
  },
  {
   "attachments": {},
   "cell_type": "markdown",
   "metadata": {},
   "source": [
    "Generator"
   ]
  },
  {
   "cell_type": "code",
   "execution_count": null,
   "metadata": {},
   "outputs": [],
   "source": [
    "from keras.initializers import RandomNormal\n",
    "\n",
    "# Build the generator\n",
    "def build_generator():\n",
    "    generator = keras.models.Sequential()\n",
    "    \n",
    "    d = 7\n",
    "    generator.add(keras.layers.Dense(d*d*256, kernel_initializer=RandomNormal(0, 0.02), input_dim=noise_dim))\n",
    "    generator.add(keras.layers.LeakyReLU(0.2))\n",
    "    generator.add(keras.layers.Dropout(0.2))\n",
    "    \n",
    "    generator.add(keras.layers.Reshape((d, d, 256)))\n",
    "    \n",
    "    generator.add(keras.layers.Conv2DTranspose(256, (4, 4), strides=2, padding='same', kernel_initializer=RandomNormal(0, 0.02)))\n",
    "    generator.add(keras.layers.LeakyReLU(0.2))\n",
    "    generator.add(keras.layers.Dropout(0.2))\n",
    "\n",
    "    generator.add(keras.layers.Conv2DTranspose(128, (4, 4), strides=2, padding='same', kernel_initializer=RandomNormal(0, 0.02)))\n",
    "    generator.add(keras.layers.LeakyReLU(0.2))\n",
    "    generator.add(keras.layers.Dropout(0.2))\n",
    "    \n",
    "    generator.add(keras.layers.Conv2D(channels, (3, 3), padding='same', activation='tanh', kernel_initializer=RandomNormal(0, 0.02)))\n",
    "    generator.compile(loss='binary_crossentropy', optimizer=optimizer)\n",
    "    \n",
    "    return generator"
   ]
  },
  {
   "attachments": {},
   "cell_type": "markdown",
   "metadata": {},
   "source": [
    "Discriminator"
   ]
  },
  {
   "cell_type": "code",
   "execution_count": null,
   "metadata": {},
   "outputs": [],
   "source": [
    "from keras.initializers import RandomNormal\n",
    "\n",
    "# Build the discriminator\n",
    "def build_discriminator():\n",
    "    discriminator = keras.models.Sequential()\n",
    "    \n",
    "    discriminator.add(keras.layers.Conv2D(64, (3, 3), padding='same', kernel_initializer=RandomNormal(0, 0.02), input_shape=(img_cols, img_rows, channels)))\n",
    "    discriminator.add(keras.layers.LeakyReLU(0.2))\n",
    "    discriminator.add(keras.layers.Dropout(0.2))\n",
    "    \n",
    "    discriminator.add(keras.layers.Conv2D(128, (3, 3), strides=2, padding='same', kernel_initializer=RandomNormal(0, 0.02)))\n",
    "    discriminator.add(keras.layers.LeakyReLU(0.2))\n",
    "    discriminator.add(keras.layers.Dropout(0.2))\n",
    "    \n",
    "    discriminator.add(keras.layers.Conv2D(256, (3, 3), strides=2, padding='same', kernel_initializer=RandomNormal(0, 0.02)))\n",
    "    discriminator.add(keras.layers.LeakyReLU(0.2))\n",
    "    discriminator.add(keras.layers.Dropout(0.2))\n",
    "    \n",
    "    discriminator.add(keras.layers.Conv2D(512, (3, 3), strides=2, padding='same', kernel_initializer=RandomNormal(0, 0.02)))\n",
    "    discriminator.add(keras.layers.LeakyReLU(0.2))    \n",
    "    discriminator.add(keras.layers.Flatten())\n",
    "    discriminator.add(keras.layers.Dropout(0.4))\n",
    "    \n",
    "    discriminator.add(keras.layers.Dense(1, activation='sigmoid', input_shape=(img_cols, img_rows, channels)))\n",
    "    discriminator.compile(loss='binary_crossentropy', optimizer=optimizer)\n",
    "    \n",
    "    return discriminator"
   ]
  },
  {
   "attachments": {},
   "cell_type": "markdown",
   "metadata": {},
   "source": [
    "GAN"
   ]
  },
  {
   "cell_type": "code",
   "execution_count": null,
   "metadata": {},
   "outputs": [],
   "source": [
    "# Build and compile the discriminator/generator\n",
    "discriminator = build_discriminator()\n",
    "generator = build_generator()\n",
    "\n",
    "# Make the discriminator not trainable\n",
    "discriminator.trainable = False\n",
    "\n",
    "# Build the GAN layers\n",
    "gan_input = keras.layers.Input(shape=(noise_dim,))\n",
    "fake_image = generator(gan_input)\n",
    "gan_output = discriminator(fake_image)\n",
    "\n",
    "# Compile the GAN model\n",
    "gan = keras.models.Model(gan_input, gan_output)\n",
    "gan.compile(loss='binary_crossentropy', optimizer=optimizer)"
   ]
  },
  {
   "attachments": {},
   "cell_type": "markdown",
   "metadata": {},
   "source": [
    "Images"
   ]
  },
  {
   "cell_type": "code",
   "execution_count": null,
   "metadata": {},
   "outputs": [],
   "source": [
    "#Code for plotting results\n",
    "def show_images(noise, size_fig, epoch):\n",
    "    generated_images = generator.predict(noise, verbose=False)\n",
    "    plt.figure(figsize=size_fig)\n",
    "    \n",
    "    for i, image in enumerate(generated_images):\n",
    "        plt.subplot(size_fig[0], size_fig[1], i+1)\n",
    "        if channels == 1:\n",
    "            plt.imshow(image.reshape((img_rows, img_cols)), cmap='gray')\n",
    "        else:\n",
    "            plt.imshow(image.reshape((img_rows, img_cols, channels)))\n",
    "        plt.axis('off')\n",
    "    \n",
    "    plt.tight_layout()\n",
    "    filename = f\"{model_name}_plot_e{epoch+1}.png\"\n",
    "    plt.savefig(f\"images\\\\{model_name}\\\\{filename}\")\n",
    "    plt.show()"
   ]
  },
  {
   "attachments": {},
   "cell_type": "markdown",
   "metadata": {},
   "source": [
    "Train Model"
   ]
  },
  {
   "cell_type": "code",
   "execution_count": null,
   "metadata": {},
   "outputs": [],
   "source": [
    "with tf.device('/GPU:0'):\n",
    "    for epoch in range(epochs):\n",
    "        for batch in range(steps_per_epoch):\n",
    "            # Generate noise and fake images with the generator\n",
    "            noise = np.random.normal(0, 1, size=(batch_size, noise_dim))\n",
    "            x_fake = generator.predict(noise, verbose=False)\n",
    "\n",
    "            # Get real images from the dataset and concatenate with fake images\n",
    "            x_real = x_train[np.random.randint(0, x_train.shape[0], size=batch_size)]\n",
    "            x = np.concatenate((x_real, x_fake))\n",
    "\n",
    "            # Create labels for real and fake images\n",
    "            y_disc = np.zeros(2*batch_size)\n",
    "            y_disc[:batch_size] = 1\n",
    "\n",
    "            # Train the discriminator on the images\n",
    "            d_loss = discriminator.train_on_batch(x, y_disc)\n",
    "\n",
    "            # Train GAN on the noise\n",
    "            y_gen = np.ones(batch_size)\n",
    "            g_loss = gan.train_on_batch(noise, y_gen)\n",
    "            \n",
    "            # Print progress\n",
    "            if batch % (steps_per_epoch/20) == 0:\n",
    "                string = f\"Epoch {epoch+1}/{epochs}: [\"\n",
    "                for _ in range(int(batch//(steps_per_epoch/20)+1)):\n",
    "                    string += \"=\"\n",
    "                for _ in range(20 - int(batch//(steps_per_epoch/20)+1)):\n",
    "                    string += \" \"\n",
    "                len_steps = len(str(steps_per_epoch))\n",
    "                len_string = len(string) + 3 + (len_steps*2)\n",
    "                string += f\"] {batch+(int(steps_per_epoch/20))}/{steps_per_epoch}\"\n",
    "                while len(string) != len_string:\n",
    "                    string += \" \"\n",
    "                print(string, end='\\r')\n",
    "            batch += 1\n",
    "\n",
    "        # Print loss values and show generated images\n",
    "        print(f\"{string}  D-Loss: {round(d_loss, 5)}  G-Loss: {round(g_loss, 5)}\")\n",
    "        show_images(np.random.normal(0, 1, size=(25, noise_dim)), (5, 5), epoch)"
   ]
  },
  {
   "cell_type": "code",
   "execution_count": null,
   "metadata": {},
   "outputs": [],
   "source": [
    "generator.save(f'models\\\\{model_name}\\\\{model_name}_generator.h5')\n",
    "discriminator.save(f'models\\\\{model_name}\\\\{model_name}_discriminator.h5')\n",
    "gan.save(f'models\\\\{model_name}\\\\{model_name}_gan.h5')"
   ]
  }
 ],
 "metadata": {
  "kernelspec": {
   "display_name": "Python 3",
   "language": "python",
   "name": "python3"
  },
  "language_info": {
   "codemirror_mode": {
    "name": "ipython",
    "version": 3
   },
   "file_extension": ".py",
   "mimetype": "text/x-python",
   "name": "python",
   "nbconvert_exporter": "python",
   "pygments_lexer": "ipython3",
   "version": "3.10.6 (tags/v3.10.6:9c7b4bd, Aug  1 2022, 21:53:49) [MSC v.1932 64 bit (AMD64)]"
  },
  "orig_nbformat": 4,
  "vscode": {
   "interpreter": {
    "hash": "fb4569285eef3a3450cb62085a5b1e0da4bce0af555edc33dcf29baf3acc1368"
   }
  }
 },
 "nbformat": 4,
 "nbformat_minor": 2
}
